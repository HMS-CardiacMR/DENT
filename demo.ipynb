{
 "cells": [
  {
   "cell_type": "code",
   "execution_count": 1,
   "metadata": {},
   "outputs": [],
   "source": [
    "import os\n",
    "import torch\n",
    "import numpy as np"
   ]
  },
  {
   "cell_type": "markdown",
   "metadata": {},
   "source": [
    "### Auxiliary Functions "
   ]
  },
  {
   "cell_type": "code",
   "execution_count": 46,
   "metadata": {},
   "outputs": [],
   "source": [
    "import pydicom \n",
    "from pydicom.uid import UID\n",
    "from pydicom.uid import generate_uid\n",
    "\n",
    "def anonymize_dicom(dicom, SeriesDescription, PatientID, SeriesNumber=0, StudyDate='20000914', ProtocolName='Anonymized', SeriesInstanceUID='Anonymized', StudyInstanceUID='Anonymized'):\n",
    "\n",
    "    dicom.PatientName = 'DENT_%s'%(PatientID)\n",
    "\n",
    "    dicom.StudyDate           = StudyDate\n",
    "    dicom.PatientAge          = '030Y'\n",
    "    dicom.PatientBirthDate    = '19600101'\n",
    "    dicom.PatientID           = PatientID\n",
    "    \n",
    "    dicom.AcquisitionDateTime = '%s174857.910000'%(StudyDate)\n",
    "    dicom.StudyDescription    = 'TemporalResolutionEnhancement'\n",
    "    dicom.SeriesDescription   = SeriesDescription\n",
    "    dicom.StudyInstanceUID    = StudyInstanceUID\n",
    "    dicom.SeriesInstanceUID   = SeriesInstanceUID\n",
    "    dicom.SOPInstanceUID      = generate_uid()\n",
    "    dicom.SeriesNumber        = '%.4d'%(SeriesNumber)\n",
    "    dicom.ProtocolName        = ProtocolName\n",
    "    \n",
    "    dicom[0x0008, 0x103e].value = ProtocolName\n",
    "    dicom[0x0018, 0x1030].value = ProtocolName\n",
    "\n",
    "\n",
    "    return dicom\n",
    "    \n",
    "def PercentileRescaler(Arr):\n",
    "    minval=np.percentile(Arr, 0, axis=None, out=None, overwrite_input=False, interpolation='linear', keepdims=False)\n",
    "    maxval=np.percentile(Arr, 100, axis=None, out=None, overwrite_input=False, interpolation='linear', keepdims=False)\n",
    "\n",
    "    if minval==maxval:\n",
    "        print(\"Zero Detected\")\n",
    "    Arr=(Arr-minval)/(maxval-minval)\n",
    "    Arr=np.clip(Arr, 0.0, 1.0)\n",
    "    return Arr, minval, maxval\n",
    "\n",
    "def RestoreRescaler (Arr, minval, maxval):\n",
    "    arr= Arr*(maxval-minval)+(minval)\n",
    "    arr = np.clip(arr, minval, maxval)\n",
    "    return arr\n",
    "\n",
    "def load_sample_dicom():\n",
    "        \n",
    "    import glob \n",
    "    import pydicom \n",
    "    \n",
    "    dicom_paths = sorted(glob.glob('./dicoms/Dorval_Ashley_034Y/series7001-Body/*'))\n",
    "\n",
    "    dicoms = [pydicom.read_file(dicom_path) for dicom_path in dicom_paths]\n",
    "\n",
    "    pixel_arrays = read_dicoms(dicoms)\n",
    "\n",
    "    return dicoms, pixel_arrays, dicom_paths\n",
    "\n",
    "def read_dicoms(dicoms):\n",
    "\n",
    "    import numpy as np \n",
    "    \n",
    "    pixel_arrays = None\n",
    "    for dicom in dicoms: \n",
    "        pixel_array  = dicom.pixel_array \n",
    "\n",
    "        if pixel_arrays is None:\n",
    "            pixel_arrays = pixel_array[None]\n",
    "        else:\n",
    "            pixel_arrays = np.concatenate((pixel_arrays, pixel_array[None]))\n",
    "\n",
    "    return pixel_arrays \n",
    "        "
   ]
  },
  {
   "cell_type": "markdown",
   "metadata": {},
   "source": [
    "#### Prepare model and load sample data "
   ]
  },
  {
   "cell_type": "code",
   "execution_count": null,
   "metadata": {},
   "outputs": [],
   "source": [
    "os.environ[\"CUDA_VISIBLE_DEVICES\"]='1'\n",
    "\n",
    "device = torch.device('cuda')\n",
    "\n",
    "from model.VFIT_B import UNet_3D_3D\n",
    "\n",
    "model = UNet_3D_3D(n_inputs=4, joinType=\"concat\")\n",
    "\n",
    "model = torch.nn.DataParallel(model).to(device)\n",
    "\n",
    "print(\"#params\" , sum([p.numel() for p in model.parameters()]))\n"
   ]
  },
  {
   "cell_type": "code",
   "execution_count": 47,
   "metadata": {},
   "outputs": [],
   "source": [
    "dicoms, pixel_arrays, dicom_paths= load_sample_dicom()"
   ]
  },
  {
   "cell_type": "code",
   "execution_count": 5,
   "metadata": {},
   "outputs": [],
   "source": [
    "load_from = './checkpoints_large_dataset_2022_10_03/model_best.pth'\n",
    "model_dict = model.state_dict()\n",
    "model.load_state_dict(torch.load(load_from)[\"state_dict\"] , strict=True)\n",
    "model.eval();"
   ]
  },
  {
   "cell_type": "markdown",
   "metadata": {},
   "source": [
    "#### Prediction "
   ]
  },
  {
   "cell_type": "code",
   "execution_count": 74,
   "metadata": {},
   "outputs": [
    {
     "name": "stderr",
     "output_type": "stream",
     "text": [
      "/home/mmorales/miniconda3/envs/DL2/lib/python3.7/site-packages/torch/nn/functional.py:3063: UserWarning: Default upsampling behavior when mode=bilinear is changed to align_corners=False since 0.4.0. Please specify align_corners=True if the old behavior is desired. See the documentation of nn.Upsample for details.\n",
      "  \"See the documentation of nn.Upsample for details.\".format(mode))\n"
     ]
    }
   ],
   "source": [
    "from torchvision import transforms\n",
    "\n",
    "T = transforms.Compose([transforms.ToTensor()])\n",
    "\n",
    "\n",
    "with torch.no_grad():\n",
    "\n",
    "    interpolated = None \n",
    "    original = None \n",
    "    for center_phase_idx in range(len(pixel_arrays)):\n",
    "\n",
    "        if center_phase_idx < len(pixel_arrays) - 1:\n",
    "            sample_ids = [center_phase_idx-2, center_phase_idx-1, center_phase_idx, center_phase_idx+1]\n",
    "        else:\n",
    "            sample_ids = [center_phase_idx-2, center_phase_idx-1, center_phase_idx, 0]\n",
    "\n",
    "        # the model was trained using 16-bit images extracted from the DICOM \n",
    "        # they were then 0-1 normalized. Here we perform equivalent operation:\n",
    "        samples, minval, maxval = PercentileRescaler(pixel_arrays[np.array(sample_ids)]) # normalize 16-bit array to 0-1\n",
    "\n",
    "        # the training data was extracted as .png to enable visualization, which requires cv2 \n",
    "        # here we avoid the use of the cv2 module (can be painful to install), and simply simulate RBG image \n",
    "        # (not ideal, we could-retrain model in a better way to avoid these operations)\n",
    "        samples = (255*np.repeat(samples[...,None], 3, -1)).astype('uint8') \n",
    "\n",
    "        # Now we loop frame-by-brame. This could be parallelize, but for now assume batch = 1 \n",
    "        images = [T(samples[tk])[None] for tk in range(4)]\n",
    "        images = [img.cuda() for img in images]\n",
    "\n",
    "        torch.cuda.synchronize()\n",
    "        \n",
    "        out = model(images) # interpolate image at t + 0.5\n",
    "        out = np.clip(out.detach().cpu().numpy(), 0, 1)\n",
    "        out = RestoreRescaler(out, minval, maxval)\n",
    "\n",
    "        prev_phase = pixel_arrays[center_phase_idx-1][None]\n",
    "        next_phase_interpolated = out[:,0]\n",
    "        \n",
    "        if interpolated is None:\n",
    "            original     = prev_phase\n",
    "            interpolated = next_phase_interpolated\n",
    "        else:\n",
    "            original     = np.concatenate((original, prev_phase))\n",
    "            interpolated = np.concatenate((interpolated, next_phase_interpolated))\n",
    "        torch.cuda.synchronize()\n",
    "        "
   ]
  },
  {
   "cell_type": "markdown",
   "metadata": {},
   "source": [
    "#### Generate New DICOM "
   ]
  },
  {
   "cell_type": "code",
   "execution_count": 75,
   "metadata": {},
   "outputs": [],
   "source": [
    "TriggerTimes = [dicom.TriggerTime.real for dicom in dicoms]\n",
    "\n",
    "reconstructed_temporal_resolution = np.diff(TriggerTimes).mean()"
   ]
  },
  {
   "cell_type": "code",
   "execution_count": 76,
   "metadata": {},
   "outputs": [],
   "source": [
    "def export_dicom_slice_2foldgain(dicoms, dicom_paths, pixel_arrays_original, pixel_arrays_interpolated,\n",
    "                                 StudyInstanceUID, SeriesInstanceUID_1, SeriesInstanceUID_2,\n",
    "                                 SubjectID, dirname_out):\n",
    "\n",
    "    os.makedirs(os.path.join(dirname_out, 'interpolated'), exist_ok=True)\n",
    "    os.makedirs(os.path.join(dirname_out, 'original'), exist_ok=True)\n",
    "    \n",
    "    TriggerTimes = [dicom.TriggerTime.real for dicom in dicoms]\n",
    "\n",
    "    reconstructed_temporal_resolution = np.diff(TriggerTimes).mean()\n",
    "\n",
    "\n",
    "\n",
    "    for InstanceIndex, (DicomFileName, TriggerTime) in enumerate(zip(dicom_paths, TriggerTimes)):\n",
    "        \n",
    "        # original dicom as reference\n",
    "        dicom = dicoms[InstanceIndex]\n",
    "\n",
    "        dicom_original = anonymize_dicom(dicom, SeriesDescription=SubjectID, PatientID=SubjectID, \n",
    "                                         SeriesNumber=1, ProtocolName='original', \n",
    "                                         StudyInstanceUID=StudyInstanceUID, SeriesInstanceUID=SeriesInstanceUID_1)\n",
    "        dicom_original.PixelData = pixel_arrays_original[InstanceIndex].tobytes() \n",
    "        dicom_original.save_as(os.path.join(dirname_out, 'original', os.path.basename(DicomFileName)))\n",
    "       \n",
    "\n",
    "        # Original Phase at t\n",
    "        dicom_interpolated = anonymize_dicom(dicom, SeriesDescription=SubjectID, PatientID=SubjectID, \n",
    "                                             SeriesNumber=2, ProtocolName='DENT_interpolated', \n",
    "                                             StudyInstanceUID=StudyInstanceUID, SeriesInstanceUID=SeriesInstanceUID_2)\n",
    "        dicom_interpolated.CardiacNumberOfImages = \"%d\"%(len(pixel_arrays))\n",
    "        dicom_interpolated.TriggerTime           = str(TriggerTime)\n",
    "        dicom_interpolated.PixelData             = pixel_arrays_original[InstanceIndex].tobytes() \n",
    "\n",
    "        dicom_name = os.path.basename(DicomFileName).strip('.dcm')\n",
    "        dicom_name += '1.dcm'\n",
    "        dicom_interpolated.save_as(os.path.join(dirname_out, 'interpolated', dicom_name))\n",
    "        \n",
    "        # Insert new cardiac DENT-Interpolated Phase at t + 0.5 * dt\n",
    "\n",
    "        dicom_interpolated = anonymize_dicom(dicom, SeriesDescription=SubjectID, PatientID=SubjectID, \n",
    "                                             SeriesNumber=2, ProtocolName='DENT_interpolated', \n",
    "                                             StudyInstanceUID=StudyInstanceUID, SeriesInstanceUID=SeriesInstanceUID_2)\n",
    "\n",
    "        dicom_interpolated.CardiacNumberOfImages = \"%d\"%(len(pixel_arrays))\n",
    "        dicom_interpolated.TriggerTime           = str(TriggerTime + reconstructed_temporal_resolution/2.0) # shift by dt/2\n",
    "        dicom_interpolated.PixelData             = pixel_arrays_interpolated[InstanceIndex].tobytes() \n",
    "\n",
    "        dicom_name = os.path.basename(DicomFileName).strip('.dcm')\n",
    "        dicom_name += '2.dcm'\n",
    "        dicom_interpolated.save_as(os.path.join(dirname_out, 'interpolated', dicom_name)) \n",
    "\n",
    "    return None "
   ]
  },
  {
   "cell_type": "code",
   "execution_count": 77,
   "metadata": {},
   "outputs": [],
   "source": [
    "dirname_out = '/mnt/alp/Users/Manuel/code/DENT/dicoms_interpolated'"
   ]
  },
  {
   "cell_type": "code",
   "execution_count": 78,
   "metadata": {},
   "outputs": [],
   "source": [
    "SubjectID = 'INLINE_TEST_2Fold_gain'\n",
    "StudyInstanceUID    = generate_uid()\n",
    "SeriesInstanceUID_1 = generate_uid()\n",
    "SeriesInstanceUID_2 = generate_uid()"
   ]
  },
  {
   "cell_type": "code",
   "execution_count": 79,
   "metadata": {},
   "outputs": [
    {
     "name": "stderr",
     "output_type": "stream",
     "text": [
      "/home/mmorales/miniconda3/envs/DL2/lib/python3.7/site-packages/pydicom/valuerep.py:290: UserWarning: The value length (18) exceeds the maximum length of 16 allowed for VR DS. Please see <https://dicom.nema.org/medical/dicom/current/output/html/part05.html#table_6.2-1> for allowed values for each VR.\n",
      "  warnings.warn(msg)\n",
      "/home/mmorales/miniconda3/envs/DL2/lib/python3.7/site-packages/pydicom/valuerep.py:290: UserWarning: The value length (17) exceeds the maximum length of 16 allowed for VR DS. Please see <https://dicom.nema.org/medical/dicom/current/output/html/part05.html#table_6.2-1> for allowed values for each VR.\n",
      "  warnings.warn(msg)\n"
     ]
    }
   ],
   "source": [
    "export_dicom_slice_2foldgain(dicoms, dicom_paths, original.astype('uint16'), interpolated.astype('uint16'),\n",
    "                                 StudyInstanceUID, SeriesInstanceUID_1, SeriesInstanceUID_2,\n",
    "                                 SubjectID, dirname_out)"
   ]
  },
  {
   "cell_type": "code",
   "execution_count": null,
   "metadata": {},
   "outputs": [],
   "source": []
  }
 ],
 "metadata": {
  "kernelspec": {
   "display_name": "Python 3.7.6 ('DL2')",
   "language": "python",
   "name": "python3"
  },
  "language_info": {
   "codemirror_mode": {
    "name": "ipython",
    "version": 3
   },
   "file_extension": ".py",
   "mimetype": "text/x-python",
   "name": "python",
   "nbconvert_exporter": "python",
   "pygments_lexer": "ipython3",
   "version": "3.7.6"
  },
  "orig_nbformat": 4,
  "vscode": {
   "interpreter": {
    "hash": "139ca2f77e1258c0ea06a192a80fedfeba1427eff50253674e007422424fff7c"
   }
  }
 },
 "nbformat": 4,
 "nbformat_minor": 2
}
